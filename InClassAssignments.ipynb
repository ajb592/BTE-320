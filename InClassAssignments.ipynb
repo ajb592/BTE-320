{
  "nbformat": 4,
  "nbformat_minor": 0,
  "metadata": {
    "colab": {
      "provenance": [],
      "authorship_tag": "ABX9TyOxgmbVDiqfGzHCGNIXCw0Z",
      "include_colab_link": true
    },
    "kernelspec": {
      "name": "python3",
      "display_name": "Python 3"
    },
    "language_info": {
      "name": "python"
    }
  },
  "cells": [
    {
      "cell_type": "markdown",
      "metadata": {
        "id": "view-in-github",
        "colab_type": "text"
      },
      "source": [
        "<a href=\"https://colab.research.google.com/github/ajb592/BTE-320/blob/main/InClassAssignments.ipynb\" target=\"_parent\"><img src=\"https://colab.research.google.com/assets/colab-badge.svg\" alt=\"Open In Colab\"/></a>"
      ]
    },
    {
      "cell_type": "code",
      "execution_count": null,
      "metadata": {
        "colab": {
          "base_uri": "https://localhost:8080/"
        },
        "id": "Dp4u8ycZ2yaU",
        "outputId": "0dfeea05-bb2a-4634-ec76-1a35fc10c057"
      },
      "outputs": [
        {
          "output_type": "stream",
          "name": "stdout",
          "text": [
            "Enter the radius of your cylinder in ft: 2\n",
            "Enter the height of your cylinder in ft: 6\n",
            "Area of cylinder: 100.48 sq. ft\n"
          ]
        }
      ],
      "source": [
        "pi = 3.14\n",
        "radius = float(input(\"Enter the radius of your cylinder in ft: \"))\n",
        "height = float(input(\"Enter the height of your cylinder in ft: \"))\n",
        "area_Cylinder = 2*pi*(r**2) + 2*pi*r*h\n",
        "print(\"Area of cylinder:\", area_Cylinder, \"sq. ft\")"
      ]
    },
    {
      "cell_type": "code",
      "source": [
        "n1 = float(input(\"Enter first number: \"))\n",
        "n2 = float(input(\"Enter second number: \"))\n",
        "op = input(\"Enter an operator: \")\n",
        "if op == \"+\":\n",
        "  total = n1 + n2\n",
        "elif op == \"-\":\n",
        "  total = n1 - n2\n",
        "elif op == \"*\":\n",
        "  total = n1 * n2\n",
        "elif op == \"/\":\n",
        "  total = n1 / n2\n",
        "elif op == \"//\":\n",
        "  total = n1 // n2\n",
        "elif op == \"**\":\n",
        "  total = n1 ** n2\n",
        "elif op == \"%\":\n",
        "  total = n1 % n2\n",
        "else:\n",
        "  total = \"Invalid operator!\"\n",
        "print(f\"{n1} {op} {n2} = {total}\")"
      ],
      "metadata": {
        "colab": {
          "base_uri": "https://localhost:8080/"
        },
        "id": "ggt-6jpy6gZ-",
        "outputId": "bc7972ca-062a-4ae9-bcd3-826b09149f17"
      },
      "execution_count": null,
      "outputs": [
        {
          "output_type": "stream",
          "name": "stdout",
          "text": [
            "Enter first number: 5\n",
            "Enter second number: 5\n",
            "Enter an operator: %\n",
            "5.0 % 5.0 = 0.0\n"
          ]
        }
      ]
    },
    {
      "cell_type": "code",
      "source": [
        "base_fee = 5.0\n",
        "hourly_rate = 2.5\n",
        "min_fee = 10.0\n",
        "max_fee = 20.0\n",
        "\n",
        "print(\"Hours\\t\", \"Total Fee\")\n",
        "\n",
        "for hours in range(1, 9):\n",
        "    total_fee = base_fee + (hourly_rate * hours)\n",
        "    if total_fee < min_fee:\n",
        "        total_fee = min_fee\n",
        "    elif total_fee > max_fee:\n",
        "        total_fee = max_fee\n",
        "    print(hours, \"\\t\", total_fee)"
      ],
      "metadata": {
        "colab": {
          "base_uri": "https://localhost:8080/"
        },
        "id": "qhEUJCVYmbiQ",
        "outputId": "8eefd3b5-370f-4408-e590-1e861e0c4ffb"
      },
      "execution_count": null,
      "outputs": [
        {
          "output_type": "stream",
          "name": "stdout",
          "text": [
            "Hours\t Total Fee\n",
            "1 \t 10.0\n",
            "2 \t 10.0\n",
            "3 \t 12.5\n",
            "4 \t 15.0\n",
            "5 \t 17.5\n",
            "6 \t 20.0\n",
            "7 \t 20.0\n",
            "8 \t 20.0\n"
          ]
        }
      ]
    },
    {
      "cell_type": "code",
      "source": [
        "ticket_price = 10\n",
        "fixed_costs = 200\n",
        "base_attendees = 20\n",
        "\n",
        "print(\"Ad$\\t\", \"Profit\")\n",
        "\n",
        "for ad_money in range(0, 201, 25):\n",
        "  revenue = (base_attendees + 2 * round(ad_money ** 0.5)) * ticket_price\n",
        "  total_costs = fixed_costs + ad_money\n",
        "  profit = revenue - total_costs\n",
        "  print(ad_money, \"\\t\", profit)"
      ],
      "metadata": {
        "colab": {
          "base_uri": "https://localhost:8080/"
        },
        "id": "HtquEsnSuPov",
        "outputId": "50152dd5-3044-484f-933f-dab8fcd336a8"
      },
      "execution_count": null,
      "outputs": [
        {
          "output_type": "stream",
          "name": "stdout",
          "text": [
            "Ad$\t Profit\n",
            "0 \t 0\n",
            "25 \t 75\n",
            "50 \t 90\n",
            "75 \t 105\n",
            "100 \t 100\n",
            "125 \t 95\n",
            "150 \t 90\n",
            "175 \t 85\n",
            "200 \t 80\n"
          ]
        }
      ]
    },
    {
      "cell_type": "code",
      "source": [
        "play = input(\"Do you want to play a game (yes/no): \")\n",
        "\n",
        "while play == \"yes\":\n",
        "  p1 = input(\"Player 1 enter 'rock' 'paper'' or 'scissors': \")\n",
        "  p2 =  input(\"Player 2 enter 'rock' 'paper' or 'scissors': \")\n",
        "\n",
        "  if p1 == p2:\n",
        "    print(\"Tie\")\n",
        "  elif ((p1 == \"rock\" and p2 == \"scissors\") or\n",
        "        (p1 == \"scissors\" and p2 == \"paper\") or\n",
        "        (p1 == \"paper\" and p2 == \"rock\")\n",
        "        ):\n",
        "    print(\"Player 1 wins!\")\n",
        "  else:\n",
        "    print(\"Player 2 wins!\")\n",
        "\n",
        "  play = input(\"Do you want to play another game (yes/no): \")\n",
        "\n",
        "print(\"Good day... \")"
      ],
      "metadata": {
        "colab": {
          "base_uri": "https://localhost:8080/"
        },
        "id": "aXHPRPnoWnng",
        "outputId": "69927774-f279-4a04-a26a-e611fe385862"
      },
      "execution_count": null,
      "outputs": [
        {
          "output_type": "stream",
          "name": "stdout",
          "text": [
            "Do you want to play a game (yes/no): yes\n",
            "Player 1 enter 'rock' 'paper'' or 'scissors': rock\n",
            "Player 2 enter 'rock' 'paper' or 'scissors': rock\n",
            "Tie\n",
            "Do you want to play another game (yes/no): yes\n",
            "Player 1 enter 'rock' 'paper'' or 'scissors': paper\n",
            "Player 2 enter 'rock' 'paper' or 'scissors': rock\n",
            "Player 1 wins!\n",
            "Do you want to play another game (yes/no): no\n",
            "Good day... \n"
          ]
        }
      ]
    },
    {
      "cell_type": "code",
      "source": [
        "import random\n",
        "\n",
        "play = input(\"Do you want to play a game (yes/no): \").capitalize()\n",
        "\n",
        "while play == \"Yes\":\n",
        "  p1 = input(\"Player enter 'rock' 'paper'' or 'scissors': \").capitalize()\n",
        "  p2 =  random.choice([\"rock\", \"paper\", \"scissors\"]).capitalize()\n",
        "\n",
        "  print(f\"Player chose{p1}; Computer chose{p2}\")\n",
        "\n",
        "  if p1 == p2:\n",
        "    print(\"Tie\")\n",
        "  elif ((p1 == \"rock\" and p2 == \"scissors\") or\n",
        "        (p1 == \"scissors\" and p2 == \"paper\") or\n",
        "        (p1 == \"paper\" and p2 == \"rock\")\n",
        "        ):\n",
        "    print(\"Player wins!\")\n",
        "  else:\n",
        "    print(\"Computer wins!\")\n",
        "\n",
        "  play = input(\"Do you want to play another game (yes/no): \").capitalize()\n",
        "\n",
        "print(\"Good day... \")"
      ],
      "metadata": {
        "colab": {
          "base_uri": "https://localhost:8080/"
        },
        "id": "9MAILcWBfDZy",
        "outputId": "35a53f08-c367-44b4-d4da-e2e0d27dd031"
      },
      "execution_count": null,
      "outputs": [
        {
          "output_type": "stream",
          "name": "stdout",
          "text": [
            "Do you want to play a game (yes/no): yes\n",
            "Player enter 'rock' 'paper'' or 'scissors': rock\n",
            "Player choseRock; Computer choseRock\n",
            "Tie\n",
            "Do you want to play another game (yes/no): yes\n",
            "Player enter 'rock' 'paper'' or 'scissors': paper\n",
            "Player chosePaper; Computer choseScissors\n",
            "Computer wins!\n",
            "Do you want to play another game (yes/no): no\n",
            "Good day... \n"
          ]
        }
      ]
    },
    {
      "cell_type": "code",
      "source": [
        "lst = []\n",
        "\n",
        "num = float(input(\"Enter a number (0 to stop): \"))\n",
        "\n",
        "while num!= 0:\n",
        "  lst.append(num)\n",
        "  num = float(input(\"Enter a number (0 to stop): \"))\n",
        "\n",
        "lst.sort(reverse=True)\n",
        "print(\"Numbers in descending order:\", lst)"
      ],
      "metadata": {
        "id": "g_dI9nt3AIXy",
        "colab": {
          "base_uri": "https://localhost:8080/"
        },
        "outputId": "0f3791b8-341d-47dc-dbde-62a5a731e136"
      },
      "execution_count": null,
      "outputs": [
        {
          "output_type": "stream",
          "name": "stdout",
          "text": [
            "Enter a number (0 to stop): 5\n",
            "Enter a number (0 to stop): 6\n",
            "Enter a number (0 to stop): 3\n",
            "Enter a number (0 to stop): 6\n",
            "Enter a number (0 to stop): 7\n",
            "Enter a number (0 to stop): 3\n",
            "Enter a number (0 to stop): 56\n",
            "Enter a number (0 to stop): 0\n",
            "Numbers in descending order: [56.0, 7.0, 6.0, 6.0, 5.0, 3.0, 3.0]\n"
          ]
        }
      ]
    },
    {
      "cell_type": "code",
      "source": [
        "months = {}\n",
        "\n",
        "names = [\"Jan\", \"Feb\", \"Mar\", \"Apr\", \"May\", \"Jun\", \"Jul\", \"Aug\", \"Sep\", \"Oct\", \"Nov\", \"Dec\"]\n",
        "numbers = [1,2,3,4,5,6,7,8,9,10,11,12]\n",
        "\n",
        "for num in numbers:\n",
        "  months[num] = names[num - 1]\n",
        "months"
      ],
      "metadata": {
        "id": "NKFVtXpLhZkw",
        "colab": {
          "base_uri": "https://localhost:8080/"
        },
        "outputId": "8ca5bc8b-3937-4e78-c9b2-9bc780aa57b1"
      },
      "execution_count": null,
      "outputs": [
        {
          "output_type": "execute_result",
          "data": {
            "text/plain": [
              "{1: 'Jan',\n",
              " 2: 'Feb',\n",
              " 3: 'Mar',\n",
              " 4: 'Apr',\n",
              " 5: 'May',\n",
              " 6: 'Jun',\n",
              " 7: 'Jul',\n",
              " 8: 'Aug',\n",
              " 9: 'Sep',\n",
              " 10: 'Oct',\n",
              " 11: 'Nov',\n",
              " 12: 'Dec'}"
            ]
          },
          "metadata": {},
          "execution_count": 8
        }
      ]
    },
    {
      "cell_type": "code",
      "source": [
        "counts = {}\n",
        "\n",
        "while len(counts) < 5:\n",
        "  key = input(\"Enter a string: \")\n",
        "\n",
        "  if key not in counts:\n",
        "    counts[key] = 1\n",
        "  else:\n",
        "    counts[key] += 1\n",
        "counts"
      ],
      "metadata": {
        "colab": {
          "base_uri": "https://localhost:8080/"
        },
        "id": "buQqirHYGjMz",
        "outputId": "30f7e169-3094-4f8f-f9c3-5627521c7a5a"
      },
      "execution_count": null,
      "outputs": [
        {
          "name": "stdout",
          "output_type": "stream",
          "text": [
            "Enter a string: a\n",
            "Enter a string: a\n",
            "Enter a string: a\n",
            "Enter a string: b\n",
            "Enter a string: b\n",
            "Enter a string: c\n",
            "Enter a string: d\n",
            "Enter a string: d\n",
            "Enter a string: d\n",
            "Enter a string: d\n",
            "Enter a string: e\n"
          ]
        },
        {
          "output_type": "execute_result",
          "data": {
            "text/plain": [
              "{'a': 3, 'b': 2, 'c': 1, 'd': 4, 'e': 1}"
            ]
          },
          "metadata": {},
          "execution_count": 13
        }
      ]
    },
    {
      "cell_type": "code",
      "source": [
        "def calcFee(hours):\n",
        "  fee = 5 + 2.5 * hours\n",
        "  if fee < 10.0:\n",
        "    fee = 10.0\n",
        "  elif fee >= 20.0:\n",
        "    fee = 20.0\n",
        "  print(f\"Fee: {fee}$\")\n",
        "\n",
        "def main():\n",
        "  numHours = int(input(\"Enter number of hours: \"))\n",
        "  calcFee(numHours)\n",
        "\n",
        "if __name__ == \"__main__\":\n",
        "  main()"
      ],
      "metadata": {
        "id": "vzzXgN1kOahL",
        "colab": {
          "base_uri": "https://localhost:8080/"
        },
        "outputId": "53f78608-e619-48fd-8a8f-f7735a63f95e"
      },
      "execution_count": null,
      "outputs": [
        {
          "output_type": "stream",
          "name": "stdout",
          "text": [
            "Enter number of hours: 5\n",
            "Fee: 17.5$\n"
          ]
        }
      ]
    },
    {
      "cell_type": "code",
      "source": [
        "def reverse_string(s):\n",
        "  if len(s) <= 1:\n",
        "    return s\n",
        "  return reverse_string(s[1:]) + s[0]\n",
        "\n",
        "string = input(\"Enter a string: \")\n",
        "print(reverse_string(string))"
      ],
      "metadata": {
        "colab": {
          "base_uri": "https://localhost:8080/"
        },
        "id": "dza_tVvhxEr2",
        "outputId": "1d7b99e6-526d-4b9f-f371-3abee8a99465"
      },
      "execution_count": null,
      "outputs": [
        {
          "output_type": "stream",
          "name": "stdout",
          "text": [
            "Enter a string: hello\n",
            "olleh\n"
          ]
        }
      ]
    },
    {
      "cell_type": "code",
      "source": [
        "def getValues(n):\n",
        "  assert n > 2, \"Size of the list must be greater than 2.\"\n",
        "  L = []\n",
        "  for i in range(n):\n",
        "    weight = float(input(\"Enter weight: \"))\n",
        "    L.append(weight)\n",
        "  return L\n",
        "\n",
        "def calcAverage(alist):\n",
        "  try:\n",
        "    print(f\"The average weight is: {sum(alist[2:]) / len(alist[2:])}\")\n",
        "  except ZeroDivisionError:\n",
        "    print(\"List alist is empty or has a length less than 2\")\n",
        "  except:\n",
        "    print(\"Unknown error\")\n",
        "\n",
        "if __name__ == \"__main__\":\n",
        "  try:\n",
        "    n = int(input(\"Enter size of list: \"))\n",
        "    alist = getValues(n)\n",
        "    calcAverage(alist)\n",
        "  except ValueError:\n",
        "    print(\"Cannot be casted as int()\")"
      ],
      "metadata": {
        "colab": {
          "base_uri": "https://localhost:8080/",
          "height": 358
        },
        "id": "TWJo7Em2lEPB",
        "outputId": "d1ceadf4-041b-44c3-a6df-e6f98fe2302c"
      },
      "execution_count": null,
      "outputs": [
        {
          "name": "stdout",
          "output_type": "stream",
          "text": [
            "Enter size of list: 2\n"
          ]
        },
        {
          "output_type": "error",
          "ename": "AssertionError",
          "evalue": "Size of the list must be greater than 2.",
          "traceback": [
            "\u001b[0;31m---------------------------------------------------------------------------\u001b[0m",
            "\u001b[0;31mAssertionError\u001b[0m                            Traceback (most recent call last)",
            "\u001b[0;32m<ipython-input-6-caa050695dc1>\u001b[0m in \u001b[0;36m<cell line: 0>\u001b[0;34m()\u001b[0m\n\u001b[1;32m     18\u001b[0m   \u001b[0;32mtry\u001b[0m\u001b[0;34m:\u001b[0m\u001b[0;34m\u001b[0m\u001b[0;34m\u001b[0m\u001b[0m\n\u001b[1;32m     19\u001b[0m     \u001b[0mn\u001b[0m \u001b[0;34m=\u001b[0m \u001b[0mint\u001b[0m\u001b[0;34m(\u001b[0m\u001b[0minput\u001b[0m\u001b[0;34m(\u001b[0m\u001b[0;34m\"Enter size of list: \"\u001b[0m\u001b[0;34m)\u001b[0m\u001b[0;34m)\u001b[0m\u001b[0;34m\u001b[0m\u001b[0;34m\u001b[0m\u001b[0m\n\u001b[0;32m---> 20\u001b[0;31m     \u001b[0malist\u001b[0m \u001b[0;34m=\u001b[0m \u001b[0mgetValues\u001b[0m\u001b[0;34m(\u001b[0m\u001b[0mn\u001b[0m\u001b[0;34m)\u001b[0m\u001b[0;34m\u001b[0m\u001b[0;34m\u001b[0m\u001b[0m\n\u001b[0m\u001b[1;32m     21\u001b[0m     \u001b[0mcalcAverage\u001b[0m\u001b[0;34m(\u001b[0m\u001b[0malist\u001b[0m\u001b[0;34m)\u001b[0m\u001b[0;34m\u001b[0m\u001b[0;34m\u001b[0m\u001b[0m\n\u001b[1;32m     22\u001b[0m   \u001b[0;32mexcept\u001b[0m \u001b[0mValueError\u001b[0m\u001b[0;34m:\u001b[0m\u001b[0;34m\u001b[0m\u001b[0;34m\u001b[0m\u001b[0m\n",
            "\u001b[0;32m<ipython-input-6-caa050695dc1>\u001b[0m in \u001b[0;36mgetValues\u001b[0;34m(n)\u001b[0m\n\u001b[1;32m      1\u001b[0m \u001b[0;32mdef\u001b[0m \u001b[0mgetValues\u001b[0m\u001b[0;34m(\u001b[0m\u001b[0mn\u001b[0m\u001b[0;34m)\u001b[0m\u001b[0;34m:\u001b[0m\u001b[0;34m\u001b[0m\u001b[0;34m\u001b[0m\u001b[0m\n\u001b[0;32m----> 2\u001b[0;31m   \u001b[0;32massert\u001b[0m \u001b[0mn\u001b[0m \u001b[0;34m>\u001b[0m \u001b[0;36m2\u001b[0m\u001b[0;34m,\u001b[0m \u001b[0;34m\"Size of the list must be greater than 2.\"\u001b[0m\u001b[0;34m\u001b[0m\u001b[0;34m\u001b[0m\u001b[0m\n\u001b[0m\u001b[1;32m      3\u001b[0m   \u001b[0mL\u001b[0m \u001b[0;34m=\u001b[0m \u001b[0;34m[\u001b[0m\u001b[0;34m]\u001b[0m\u001b[0;34m\u001b[0m\u001b[0;34m\u001b[0m\u001b[0m\n\u001b[1;32m      4\u001b[0m   \u001b[0;32mfor\u001b[0m \u001b[0mi\u001b[0m \u001b[0;32min\u001b[0m \u001b[0mrange\u001b[0m\u001b[0;34m(\u001b[0m\u001b[0mn\u001b[0m\u001b[0;34m)\u001b[0m\u001b[0;34m:\u001b[0m\u001b[0;34m\u001b[0m\u001b[0;34m\u001b[0m\u001b[0m\n\u001b[1;32m      5\u001b[0m     \u001b[0mweight\u001b[0m \u001b[0;34m=\u001b[0m \u001b[0mfloat\u001b[0m\u001b[0;34m(\u001b[0m\u001b[0minput\u001b[0m\u001b[0;34m(\u001b[0m\u001b[0;34m\"Enter weight: \"\u001b[0m\u001b[0;34m)\u001b[0m\u001b[0;34m)\u001b[0m\u001b[0;34m\u001b[0m\u001b[0;34m\u001b[0m\u001b[0m\n",
            "\u001b[0;31mAssertionError\u001b[0m: Size of the list must be greater than 2."
          ]
        }
      ]
    },
    {
      "cell_type": "code",
      "source": [
        "class Greeting:\n",
        "  def __init__(self, first, last):\n",
        "    self.first = first\n",
        "    self.last = last\n",
        "\n",
        "  def display(self, formal=False):\n",
        "    if formal:\n",
        "      print(f\"Hello {self.first} {self.last}\")\n",
        "    else:\n",
        "      print(f\"Hi {self.first}\")\n",
        "\n",
        "  def __str__(self):\n",
        "    return str(self.first) + \", \" + str(self.last)\n",
        "    return \"{}, {}\".format(self.first,self.last)\n",
        "    return f\"{self.first}, {self.last}\"\n",
        "\n",
        "greeting = Greeting(\"Donald\", \"Becker\")\n",
        "s = Greeting(\"Bob\", \"Dylan\")\n",
        "greeting.display(formal=True)\n",
        "print(greeting)\n",
        "print(s)"
      ],
      "metadata": {
        "id": "0h9J7pki6NPy",
        "colab": {
          "base_uri": "https://localhost:8080/"
        },
        "outputId": "9d147c2b-6e90-402f-e32b-103396b4e458"
      },
      "execution_count": null,
      "outputs": [
        {
          "output_type": "stream",
          "name": "stdout",
          "text": [
            "Hello Donald Becker\n",
            "Donald, Becker\n",
            "Bob, Dylan\n"
          ]
        }
      ]
    },
    {
      "cell_type": "code",
      "source": [
        "class Student:\n",
        "  def __init__(self, name, number):\n",
        "    self.name = name\n",
        "    self.__number = number\n",
        "    self.__courses = []\n",
        "\n",
        "  def get_number(self): # getter method for number attribute\n",
        "    return self.__number\n",
        "\n",
        "  def set_number(self, newnumber): # setter method for number attribute\n",
        "    self.__number = newnumber\n",
        "\n",
        "  def __len__(self):\n",
        "    return len(self.__courses)\n",
        "\n",
        "  def enroll(self, course):\n",
        "    if course in self.__courses:\n",
        "      print(f\"You have already enrolled in {course}\")\n",
        "    else:\n",
        "      self.__courses.append(course)\n",
        "\n",
        "  def get_courses(self):\n",
        "    return self.__courses"
      ],
      "metadata": {
        "id": "AzeJU4O48fEF"
      },
      "execution_count": 1,
      "outputs": []
    },
    {
      "cell_type": "code",
      "source": [
        "s1 = Student(\"Bob\", 100)\n",
        "s2 = Student(\"Alice\", 101)"
      ],
      "metadata": {
        "id": "9eeO3bLryyp-"
      },
      "execution_count": 2,
      "outputs": []
    },
    {
      "cell_type": "code",
      "source": [
        "print(s1.name, s2.name)"
      ],
      "metadata": {
        "colab": {
          "base_uri": "https://localhost:8080/",
          "height": 0
        },
        "id": "IfDa_Zezy28P",
        "outputId": "94bef46e-e3fa-4100-fbc3-c8270981bd90"
      },
      "execution_count": 3,
      "outputs": [
        {
          "output_type": "stream",
          "name": "stdout",
          "text": [
            "Bob Alice\n"
          ]
        }
      ]
    },
    {
      "cell_type": "code",
      "source": [
        "import math\n",
        "\n",
        "class Point:\n",
        "  def __init__(self, x, y):\n",
        "    self.x = x\n",
        "    self.y = y\n",
        "\n",
        "  def distance(self, other):\n",
        "    dx = (self.x - other.x) ** 2\n",
        "    dy = (self.y - other.y) ** 2\n",
        "    dist = math.sqrt(dx + dy)\n",
        "    return dist\n",
        "\n",
        "p1 = Point(1,7)\n",
        "p2 = Point(4,3)\n",
        "p1.distance(p2)"
      ],
      "metadata": {
        "colab": {
          "base_uri": "https://localhost:8080/"
        },
        "id": "oGH_ZNO72Atb",
        "outputId": "0b682e49-9fc3-4871-fb19-ae6f45b1d8a2"
      },
      "execution_count": 4,
      "outputs": [
        {
          "output_type": "execute_result",
          "data": {
            "text/plain": [
              "5.0"
            ]
          },
          "metadata": {},
          "execution_count": 4
        }
      ]
    },
    {
      "cell_type": "code",
      "source": [
        "class Rectangle:\n",
        "  def __init__(self):\n",
        "    self.corner1 = Point(0, 0)\n",
        "    self.corner2 = Point(0, 2)\n",
        "    self.corner3 = Point(2, 0)\n",
        "    self.corner4 = Point(2, 2)\n",
        "\n",
        "  def calculate_width(self):\n",
        "    return self.corner1.distance(self.corner3)\n",
        "\n",
        "  def calculate_length(self):\n",
        "    return self.corner1.distance(self.corner2)\n",
        "\n",
        "  def area(self):\n",
        "    return self.calculate_width() * self.calculate_length()\n",
        "\n",
        "square = Rectangle()\n",
        "square.area()"
      ],
      "metadata": {
        "colab": {
          "base_uri": "https://localhost:8080/"
        },
        "id": "46brrO6M2Ae1",
        "outputId": "1aaa90b8-d3d7-46d7-a681-5eb546c1a39c"
      },
      "execution_count": 10,
      "outputs": [
        {
          "output_type": "execute_result",
          "data": {
            "text/plain": [
              "4.0"
            ]
          },
          "metadata": {},
          "execution_count": 10
        }
      ]
    }
  ]
}