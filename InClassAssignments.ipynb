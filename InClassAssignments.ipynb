{
  "nbformat": 4,
  "nbformat_minor": 0,
  "metadata": {
    "colab": {
      "provenance": [],
      "authorship_tag": "ABX9TyMWUZVWhJwTCdO1rT/9wCMp",
      "include_colab_link": true
    },
    "kernelspec": {
      "name": "python3",
      "display_name": "Python 3"
    },
    "language_info": {
      "name": "python"
    }
  },
  "cells": [
    {
      "cell_type": "markdown",
      "metadata": {
        "id": "view-in-github",
        "colab_type": "text"
      },
      "source": [
        "<a href=\"https://colab.research.google.com/github/ajb592/BTE-320/blob/main/InClassAssignments.ipynb\" target=\"_parent\"><img src=\"https://colab.research.google.com/assets/colab-badge.svg\" alt=\"Open In Colab\"/></a>"
      ]
    },
    {
      "cell_type": "code",
      "execution_count": null,
      "metadata": {
        "colab": {
          "base_uri": "https://localhost:8080/"
        },
        "id": "Dp4u8ycZ2yaU",
        "outputId": "0dfeea05-bb2a-4634-ec76-1a35fc10c057"
      },
      "outputs": [
        {
          "output_type": "stream",
          "name": "stdout",
          "text": [
            "Enter the radius of your cylinder in ft: 2\n",
            "Enter the height of your cylinder in ft: 6\n",
            "Area of cylinder: 100.48 sq. ft\n"
          ]
        }
      ],
      "source": [
        "pi = 3.14\n",
        "radius = float(input(\"Enter the radius of your cylinder in ft: \"))\n",
        "height = float(input(\"Enter the height of your cylinder in ft: \"))\n",
        "area_Cylinder = 2*pi*(r**2) + 2*pi*r*h\n",
        "print(\"Area of cylinder:\", area_Cylinder, \"sq. ft\")"
      ]
    },
    {
      "cell_type": "code",
      "source": [
        "n1 = float(input(\"Enter first number: \"))\n",
        "n2 = float(input(\"Enter second number: \"))\n",
        "op = input(\"Enter an operator: \")\n",
        "if op == \"+\":\n",
        "  total = n1 + n2\n",
        "elif op == \"-\":\n",
        "  total = n1 - n2\n",
        "elif op == \"*\":\n",
        "  total = n1 * n2\n",
        "elif op == \"/\":\n",
        "  total = n1 / n2\n",
        "elif op == \"//\":\n",
        "  total = n1 // n2\n",
        "elif op == \"**\":\n",
        "  total = n1 ** n2\n",
        "elif op == \"%\":\n",
        "  total = n1 % n2\n",
        "else:\n",
        "  total = \"Invalid operator!\"\n",
        "print(f\"{n1} {op} {n2} = {total}\")"
      ],
      "metadata": {
        "colab": {
          "base_uri": "https://localhost:8080/"
        },
        "id": "ggt-6jpy6gZ-",
        "outputId": "bc7972ca-062a-4ae9-bcd3-826b09149f17"
      },
      "execution_count": null,
      "outputs": [
        {
          "output_type": "stream",
          "name": "stdout",
          "text": [
            "Enter first number: 5\n",
            "Enter second number: 5\n",
            "Enter an operator: %\n",
            "5.0 % 5.0 = 0.0\n"
          ]
        }
      ]
    },
    {
      "cell_type": "code",
      "source": [
        "base_fee = 5.0\n",
        "hourly_rate = 2.5\n",
        "min_fee = 10.0\n",
        "max_fee = 20.0\n",
        "\n",
        "print(\"Hours\\t\", \"Total Fee\")\n",
        "\n",
        "for hours in range(1, 9):\n",
        "    total_fee = base_fee + (hourly_rate * hours)\n",
        "    if total_fee < min_fee:\n",
        "        total_fee = min_fee\n",
        "    elif total_fee > max_fee:\n",
        "        total_fee = max_fee\n",
        "    print(hours, \"\\t\", total_fee)"
      ],
      "metadata": {
        "colab": {
          "base_uri": "https://localhost:8080/"
        },
        "id": "qhEUJCVYmbiQ",
        "outputId": "8eefd3b5-370f-4408-e590-1e861e0c4ffb"
      },
      "execution_count": null,
      "outputs": [
        {
          "output_type": "stream",
          "name": "stdout",
          "text": [
            "Hours\t Total Fee\n",
            "1 \t 10.0\n",
            "2 \t 10.0\n",
            "3 \t 12.5\n",
            "4 \t 15.0\n",
            "5 \t 17.5\n",
            "6 \t 20.0\n",
            "7 \t 20.0\n",
            "8 \t 20.0\n"
          ]
        }
      ]
    },
    {
      "cell_type": "code",
      "source": [
        "ticket_price = 10\n",
        "fixed_costs = 200\n",
        "base_attendees = 20\n",
        "\n",
        "print(\"Ad$\\t\", \"Profit\")\n",
        "\n",
        "for ad_money in range(0, 201, 25):\n",
        "  revenue = (base_attendees + 2 * round(ad_money ** 0.5)) * ticket_price\n",
        "  total_costs = fixed_costs + ad_money\n",
        "  profit = revenue - total_costs\n",
        "  print(ad_money, \"\\t\", profit)"
      ],
      "metadata": {
        "colab": {
          "base_uri": "https://localhost:8080/"
        },
        "id": "HtquEsnSuPov",
        "outputId": "50152dd5-3044-484f-933f-dab8fcd336a8"
      },
      "execution_count": null,
      "outputs": [
        {
          "output_type": "stream",
          "name": "stdout",
          "text": [
            "Ad$\t Profit\n",
            "0 \t 0\n",
            "25 \t 75\n",
            "50 \t 90\n",
            "75 \t 105\n",
            "100 \t 100\n",
            "125 \t 95\n",
            "150 \t 90\n",
            "175 \t 85\n",
            "200 \t 80\n"
          ]
        }
      ]
    },
    {
      "cell_type": "code",
      "source": [
        "play = input(\"Do you want to play a game (yes/no): \")\n",
        "\n",
        "while play == \"yes\":\n",
        "  p1 = input(\"Player 1 enter 'rock' 'paper'' or 'scissors': \")\n",
        "  p2 =  input(\"Player 2 enter 'rock' 'paper' or 'scissors': \")\n",
        "\n",
        "  if p1 == p2:\n",
        "    print(\"Tie\")\n",
        "  elif ((p1 == \"rock\" and p2 == \"scissors\") or\n",
        "        (p1 == \"scissors\" and p2 == \"paper\") or\n",
        "        (p1 == \"paper\" and p2 == \"rock\")\n",
        "        ):\n",
        "    print(\"Player 1 wins!\")\n",
        "  else:\n",
        "    print(\"Player 2 wins!\")\n",
        "\n",
        "  play = input(\"Do you want to play another game (yes/no): \")\n",
        "\n",
        "print(\"Good day... \")"
      ],
      "metadata": {
        "colab": {
          "base_uri": "https://localhost:8080/"
        },
        "id": "aXHPRPnoWnng",
        "outputId": "69927774-f279-4a04-a26a-e611fe385862"
      },
      "execution_count": null,
      "outputs": [
        {
          "output_type": "stream",
          "name": "stdout",
          "text": [
            "Do you want to play a game (yes/no): yes\n",
            "Player 1 enter 'rock' 'paper'' or 'scissors': rock\n",
            "Player 2 enter 'rock' 'paper' or 'scissors': rock\n",
            "Tie\n",
            "Do you want to play another game (yes/no): yes\n",
            "Player 1 enter 'rock' 'paper'' or 'scissors': paper\n",
            "Player 2 enter 'rock' 'paper' or 'scissors': rock\n",
            "Player 1 wins!\n",
            "Do you want to play another game (yes/no): no\n",
            "Good day... \n"
          ]
        }
      ]
    },
    {
      "cell_type": "code",
      "source": [
        "import random\n",
        "\n",
        "play = input(\"Do you want to play a game (yes/no): \").capitalize()\n",
        "\n",
        "while play == \"Yes\":\n",
        "  p1 = input(\"Player enter 'rock' 'paper'' or 'scissors': \").capitalize()\n",
        "  p2 =  random.choice([\"rock\", \"paper\", \"scissors\"]).capitalize()\n",
        "\n",
        "  print(f\"Player chose{p1}; Computer chose{p2}\")\n",
        "\n",
        "  if p1 == p2:\n",
        "    print(\"Tie\")\n",
        "  elif ((p1 == \"rock\" and p2 == \"scissors\") or\n",
        "        (p1 == \"scissors\" and p2 == \"paper\") or\n",
        "        (p1 == \"paper\" and p2 == \"rock\")\n",
        "        ):\n",
        "    print(\"Player wins!\")\n",
        "  else:\n",
        "    print(\"Computer wins!\")\n",
        "\n",
        "  play = input(\"Do you want to play another game (yes/no): \").capitalize()\n",
        "\n",
        "print(\"Good day... \")"
      ],
      "metadata": {
        "colab": {
          "base_uri": "https://localhost:8080/"
        },
        "id": "9MAILcWBfDZy",
        "outputId": "35a53f08-c367-44b4-d4da-e2e0d27dd031"
      },
      "execution_count": null,
      "outputs": [
        {
          "output_type": "stream",
          "name": "stdout",
          "text": [
            "Do you want to play a game (yes/no): yes\n",
            "Player enter 'rock' 'paper'' or 'scissors': rock\n",
            "Player choseRock; Computer choseRock\n",
            "Tie\n",
            "Do you want to play another game (yes/no): yes\n",
            "Player enter 'rock' 'paper'' or 'scissors': paper\n",
            "Player chosePaper; Computer choseScissors\n",
            "Computer wins!\n",
            "Do you want to play another game (yes/no): no\n",
            "Good day... \n"
          ]
        }
      ]
    },
    {
      "cell_type": "code",
      "source": [
        "lst = []\n",
        "\n",
        "num = float(input(\"Enter a number (0 to stop): \"))\n",
        "\n",
        "while num!= 0:\n",
        "  lst.append(num)\n",
        "  num = float(input(\"Enter a number (0 to stop): \"))\n",
        "\n",
        "lst.sort(reverse=True)\n",
        "print(\"Numbers in descending order:\", lst)"
      ],
      "metadata": {
        "id": "g_dI9nt3AIXy",
        "colab": {
          "base_uri": "https://localhost:8080/"
        },
        "outputId": "0f3791b8-341d-47dc-dbde-62a5a731e136"
      },
      "execution_count": null,
      "outputs": [
        {
          "output_type": "stream",
          "name": "stdout",
          "text": [
            "Enter a number (0 to stop): 5\n",
            "Enter a number (0 to stop): 6\n",
            "Enter a number (0 to stop): 3\n",
            "Enter a number (0 to stop): 6\n",
            "Enter a number (0 to stop): 7\n",
            "Enter a number (0 to stop): 3\n",
            "Enter a number (0 to stop): 56\n",
            "Enter a number (0 to stop): 0\n",
            "Numbers in descending order: [56.0, 7.0, 6.0, 6.0, 5.0, 3.0, 3.0]\n"
          ]
        }
      ]
    },
    {
      "cell_type": "code",
      "source": [
        "months = {}\n",
        "\n",
        "names = [\"Jan\", \"Feb\", \"Mar\", \"Apr\", \"May\", \"Jun\", \"Jul\", \"Aug\", \"Sep\", \"Oct\", \"Nov\", \"Dec\"]\n",
        "numbers = [1,2,3,4,5,6,7,8,9,10,11,12]\n",
        "\n",
        "for num in numbers:\n",
        "  months[num] = names[num - 1]\n",
        "months"
      ],
      "metadata": {
        "id": "NKFVtXpLhZkw",
        "colab": {
          "base_uri": "https://localhost:8080/"
        },
        "outputId": "8ca5bc8b-3937-4e78-c9b2-9bc780aa57b1"
      },
      "execution_count": null,
      "outputs": [
        {
          "output_type": "execute_result",
          "data": {
            "text/plain": [
              "{1: 'Jan',\n",
              " 2: 'Feb',\n",
              " 3: 'Mar',\n",
              " 4: 'Apr',\n",
              " 5: 'May',\n",
              " 6: 'Jun',\n",
              " 7: 'Jul',\n",
              " 8: 'Aug',\n",
              " 9: 'Sep',\n",
              " 10: 'Oct',\n",
              " 11: 'Nov',\n",
              " 12: 'Dec'}"
            ]
          },
          "metadata": {},
          "execution_count": 8
        }
      ]
    },
    {
      "cell_type": "code",
      "source": [
        "counts = {}\n",
        "\n",
        "while len(counts) < 5:\n",
        "  key = input(\"Enter a string: \")\n",
        "\n",
        "  if key not in counts:\n",
        "    counts[key] = 1\n",
        "  else:\n",
        "    counts[key] += 1\n",
        "counts"
      ],
      "metadata": {
        "colab": {
          "base_uri": "https://localhost:8080/"
        },
        "id": "buQqirHYGjMz",
        "outputId": "30f7e169-3094-4f8f-f9c3-5627521c7a5a"
      },
      "execution_count": null,
      "outputs": [
        {
          "name": "stdout",
          "output_type": "stream",
          "text": [
            "Enter a string: a\n",
            "Enter a string: a\n",
            "Enter a string: a\n",
            "Enter a string: b\n",
            "Enter a string: b\n",
            "Enter a string: c\n",
            "Enter a string: d\n",
            "Enter a string: d\n",
            "Enter a string: d\n",
            "Enter a string: d\n",
            "Enter a string: e\n"
          ]
        },
        {
          "output_type": "execute_result",
          "data": {
            "text/plain": [
              "{'a': 3, 'b': 2, 'c': 1, 'd': 4, 'e': 1}"
            ]
          },
          "metadata": {},
          "execution_count": 13
        }
      ]
    },
    {
      "cell_type": "code",
      "source": [
        "def calcFee(hours):\n",
        "  fee = 5 + 2.5 * hours\n",
        "  if fee < 10.0:\n",
        "    fee = 10.0\n",
        "  elif fee >= 20.0:\n",
        "    fee = 20.0\n",
        "  print(f\"Fee: {fee}$\")\n",
        "\n",
        "def main():\n",
        "  numHours = int(input(\"Enter number of hours: \"))\n",
        "  calcFee(numHours)\n",
        "\n",
        "if __name__ == \"__main__\":\n",
        "  main()"
      ],
      "metadata": {
        "id": "vzzXgN1kOahL",
        "colab": {
          "base_uri": "https://localhost:8080/"
        },
        "outputId": "53f78608-e619-48fd-8a8f-f7735a63f95e"
      },
      "execution_count": 1,
      "outputs": [
        {
          "output_type": "stream",
          "name": "stdout",
          "text": [
            "Enter number of hours: 5\n",
            "Fee: 17.5$\n"
          ]
        }
      ]
    }
  ]
}