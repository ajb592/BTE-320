{
  "nbformat": 4,
  "nbformat_minor": 0,
  "metadata": {
    "colab": {
      "provenance": [],
      "authorship_tag": "ABX9TyPaZeeCY10P0UI/bg8kLdtV",
      "include_colab_link": true
    },
    "kernelspec": {
      "name": "python3",
      "display_name": "Python 3"
    },
    "language_info": {
      "name": "python"
    }
  },
  "cells": [
    {
      "cell_type": "markdown",
      "metadata": {
        "id": "view-in-github",
        "colab_type": "text"
      },
      "source": [
        "<a href=\"https://colab.research.google.com/github/ajb592/BTE-320/blob/main/InClassAssignments.ipynb\" target=\"_parent\"><img src=\"https://colab.research.google.com/assets/colab-badge.svg\" alt=\"Open In Colab\"/></a>"
      ]
    },
    {
      "cell_type": "code",
      "execution_count": null,
      "metadata": {
        "colab": {
          "base_uri": "https://localhost:8080/"
        },
        "id": "Dp4u8ycZ2yaU",
        "outputId": "0dfeea05-bb2a-4634-ec76-1a35fc10c057"
      },
      "outputs": [
        {
          "output_type": "stream",
          "name": "stdout",
          "text": [
            "Enter the radius of your cylinder in ft: 2\n",
            "Enter the height of your cylinder in ft: 6\n",
            "Area of cylinder: 100.48 sq. ft\n"
          ]
        }
      ],
      "source": [
        "pi = 3.14\n",
        "radius = float(input(\"Enter the radius of your cylinder in ft: \"))\n",
        "height = float(input(\"Enter the height of your cylinder in ft: \"))\n",
        "area_Cylinder = 2*pi*(r**2) + 2*pi*r*h\n",
        "print(\"Area of cylinder:\", area_Cylinder, \"sq. ft\")"
      ]
    },
    {
      "cell_type": "code",
      "source": [
        "n1 = float(input(\"Enter first number: \"))\n",
        "n2 = float(input(\"Enter second number: \"))\n",
        "op = input(\"Enter an operator: \")\n",
        "if op == \"+\":\n",
        "  total = n1 + n2\n",
        "elif op == \"-\":\n",
        "  total = n1 - n2\n",
        "elif op == \"*\":\n",
        "  total = n1 * n2\n",
        "elif op == \"/\":\n",
        "  total = n1 / n2\n",
        "elif op == \"//\":\n",
        "  total = n1 // n2\n",
        "elif op == \"**\":\n",
        "  total = n1 ** n2\n",
        "elif op == \"%\":\n",
        "  total = n1 % n2\n",
        "else:\n",
        "  total = \"Invalid operator!\"\n",
        "print(f\"{n1} {op} {n2} = {total}\")"
      ],
      "metadata": {
        "colab": {
          "base_uri": "https://localhost:8080/"
        },
        "id": "ggt-6jpy6gZ-",
        "outputId": "bc7972ca-062a-4ae9-bcd3-826b09149f17"
      },
      "execution_count": null,
      "outputs": [
        {
          "output_type": "stream",
          "name": "stdout",
          "text": [
            "Enter first number: 5\n",
            "Enter second number: 5\n",
            "Enter an operator: %\n",
            "5.0 % 5.0 = 0.0\n"
          ]
        }
      ]
    },
    {
      "cell_type": "code",
      "source": [
        "base_fee = 5.0\n",
        "hourly_rate = 2.5\n",
        "min_fee = 10.0\n",
        "max_fee = 20.0\n",
        "\n",
        "print(\"Hours\\t\", \"Total Fee\")\n",
        "\n",
        "for hours in range(1, 9):\n",
        "    total_fee = base_fee + (hourly_rate * hours)\n",
        "    if total_fee < min_fee:\n",
        "        total_fee = min_fee\n",
        "    elif total_fee > max_fee:\n",
        "        total_fee = max_fee\n",
        "    print(hours, \"\\t\", total_fee)"
      ],
      "metadata": {
        "colab": {
          "base_uri": "https://localhost:8080/"
        },
        "id": "qhEUJCVYmbiQ",
        "outputId": "8eefd3b5-370f-4408-e590-1e861e0c4ffb"
      },
      "execution_count": 9,
      "outputs": [
        {
          "output_type": "stream",
          "name": "stdout",
          "text": [
            "Hours\t Total Fee\n",
            "1 \t 10.0\n",
            "2 \t 10.0\n",
            "3 \t 12.5\n",
            "4 \t 15.0\n",
            "5 \t 17.5\n",
            "6 \t 20.0\n",
            "7 \t 20.0\n",
            "8 \t 20.0\n"
          ]
        }
      ]
    },
    {
      "cell_type": "code",
      "source": [
        "ticket_price = 10\n",
        "fixed_costs = 200\n",
        "base_attendees = 20\n",
        "\n",
        "print(\"Ad$\\t\", \"Profit\")\n",
        "\n",
        "for ad_money in range(0, 201, 25):\n",
        "  revenue = (base_attendees + 2 * round(ad_money ** 0.5)) * ticket_price\n",
        "  total_costs = fixed_costs + ad_money\n",
        "  profit = revenue - total_costs\n",
        "  print(ad_money, \"\\t\", profit)"
      ],
      "metadata": {
        "colab": {
          "base_uri": "https://localhost:8080/"
        },
        "id": "HtquEsnSuPov",
        "outputId": "50152dd5-3044-484f-933f-dab8fcd336a8"
      },
      "execution_count": 10,
      "outputs": [
        {
          "output_type": "stream",
          "name": "stdout",
          "text": [
            "Ad$\t Profit\n",
            "0 \t 0\n",
            "25 \t 75\n",
            "50 \t 90\n",
            "75 \t 105\n",
            "100 \t 100\n",
            "125 \t 95\n",
            "150 \t 90\n",
            "175 \t 85\n",
            "200 \t 80\n"
          ]
        }
      ]
    }
  ]
}