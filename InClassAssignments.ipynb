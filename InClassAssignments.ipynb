{
  "nbformat": 4,
  "nbformat_minor": 0,
  "metadata": {
    "colab": {
      "provenance": [],
      "authorship_tag": "ABX9TyMpWoOk8kg4j4hyX86HFXGZ",
      "include_colab_link": true
    },
    "kernelspec": {
      "name": "python3",
      "display_name": "Python 3"
    },
    "language_info": {
      "name": "python"
    }
  },
  "cells": [
    {
      "cell_type": "markdown",
      "metadata": {
        "id": "view-in-github",
        "colab_type": "text"
      },
      "source": [
        "<a href=\"https://colab.research.google.com/github/ajb592/BTE-320/blob/main/InClassAssignments.ipynb\" target=\"_parent\"><img src=\"https://colab.research.google.com/assets/colab-badge.svg\" alt=\"Open In Colab\"/></a>"
      ]
    },
    {
      "cell_type": "code",
      "execution_count": null,
      "metadata": {
        "colab": {
          "base_uri": "https://localhost:8080/"
        },
        "id": "Dp4u8ycZ2yaU",
        "outputId": "0dfeea05-bb2a-4634-ec76-1a35fc10c057"
      },
      "outputs": [
        {
          "output_type": "stream",
          "name": "stdout",
          "text": [
            "Enter the radius of your cylinder in ft: 2\n",
            "Enter the height of your cylinder in ft: 6\n",
            "Area of cylinder: 100.48 sq. ft\n"
          ]
        }
      ],
      "source": [
        "pi = 3.14\n",
        "radius = float(input(\"Enter the radius of your cylinder in ft: \"))\n",
        "height = float(input(\"Enter the height of your cylinder in ft: \"))\n",
        "area_Cylinder = 2*pi*(r**2) + 2*pi*r*h\n",
        "print(\"Area of cylinder:\", area_Cylinder, \"sq. ft\")"
      ]
    },
    {
      "cell_type": "code",
      "source": [
        "n1 = float(input(\"Enter first number: \"))\n",
        "n2 = float(input(\"Enter second number: \"))\n",
        "op = input(\"Enter an operator: \")\n",
        "if op == \"+\":\n",
        "  total = n1 + n2\n",
        "elif op == \"-\":\n",
        "  total = n1 - n2\n",
        "elif op == \"*\":\n",
        "  total = n1 * n2\n",
        "elif op == \"/\":\n",
        "  total = n1 / n2\n",
        "elif op == \"//\":\n",
        "  total = n1 // n2\n",
        "elif op == \"**\":\n",
        "  total = n1 ** n2\n",
        "elif op == \"%\":\n",
        "  total = n1 % n2\n",
        "else:\n",
        "  total = \"Invalid operator!\"\n",
        "print(f\"{n1} {op} {n2} = {total}\")"
      ],
      "metadata": {
        "colab": {
          "base_uri": "https://localhost:8080/"
        },
        "id": "ggt-6jpy6gZ-",
        "outputId": "c007bcf8-e117-4a56-8b17-4355a54a5c86"
      },
      "execution_count": 14,
      "outputs": [
        {
          "output_type": "stream",
          "name": "stdout",
          "text": [
            "Enter first number: 5\n",
            "Enter second number: 5\n",
            "Enter an operator: %\n",
            "5.0 % 5.0 = 0.0\n"
          ]
        }
      ]
    }
  ]
}