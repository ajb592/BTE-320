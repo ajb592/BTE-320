{
  "nbformat": 4,
  "nbformat_minor": 0,
  "metadata": {
    "colab": {
      "provenance": [],
      "authorship_tag": "ABX9TyMIOv8bMm4bL0eBWLDfQXzG",
      "include_colab_link": true
    },
    "kernelspec": {
      "name": "python3",
      "display_name": "Python 3"
    },
    "language_info": {
      "name": "python"
    }
  },
  "cells": [
    {
      "cell_type": "markdown",
      "metadata": {
        "id": "view-in-github",
        "colab_type": "text"
      },
      "source": [
        "<a href=\"https://colab.research.google.com/github/ajb592/BTE-320/blob/main/Notes.ipynb\" target=\"_parent\"><img src=\"https://colab.research.google.com/assets/colab-badge.svg\" alt=\"Open In Colab\"/></a>"
      ]
    },
    {
      "cell_type": "code",
      "execution_count": null,
      "metadata": {
        "colab": {
          "base_uri": "https://localhost:8080/"
        },
        "id": "ZYvlnZvIxNDz",
        "outputId": "ad970faf-0a4c-42a9-ba2c-c651a1cf9eec"
      },
      "outputs": [
        {
          "output_type": "execute_result",
          "data": {
            "text/plain": [
              "5"
            ]
          },
          "metadata": {},
          "execution_count": 1
        }
      ],
      "source": [
        "3+2"
      ]
    },
    {
      "cell_type": "code",
      "source": [
        "3.2+5.5"
      ],
      "metadata": {
        "colab": {
          "base_uri": "https://localhost:8080/"
        },
        "id": "kk4pE0lmxxRn",
        "outputId": "cc213c77-7de9-4ba6-d4f0-282750e0dadd"
      },
      "execution_count": null,
      "outputs": [
        {
          "output_type": "execute_result",
          "data": {
            "text/plain": [
              "8.7"
            ]
          },
          "metadata": {},
          "execution_count": 2
        }
      ]
    },
    {
      "cell_type": "code",
      "source": [
        "3+2.0"
      ],
      "metadata": {
        "colab": {
          "base_uri": "https://localhost:8080/"
        },
        "id": "tmJrrfcXxzVn",
        "outputId": "093d750c-7e24-4c0f-c2dc-071485c3336d"
      },
      "execution_count": null,
      "outputs": [
        {
          "output_type": "execute_result",
          "data": {
            "text/plain": [
              "5.0"
            ]
          },
          "metadata": {},
          "execution_count": 3
        }
      ]
    },
    {
      "cell_type": "code",
      "source": [
        "5-2"
      ],
      "metadata": {
        "colab": {
          "base_uri": "https://localhost:8080/"
        },
        "id": "NQ3P2czFx2x8",
        "outputId": "b888e18e-797a-4d94-cd25-767ef2976fa6"
      },
      "execution_count": null,
      "outputs": [
        {
          "output_type": "execute_result",
          "data": {
            "text/plain": [
              "3"
            ]
          },
          "metadata": {},
          "execution_count": 4
        }
      ]
    },
    {
      "cell_type": "code",
      "source": [
        "4*5"
      ],
      "metadata": {
        "colab": {
          "base_uri": "https://localhost:8080/"
        },
        "id": "gaJSOuE7x7-w",
        "outputId": "f146fec4-afe7-4881-fa35-d5f97e7c2658"
      },
      "execution_count": null,
      "outputs": [
        {
          "output_type": "execute_result",
          "data": {
            "text/plain": [
              "20"
            ]
          },
          "metadata": {},
          "execution_count": 5
        }
      ]
    },
    {
      "cell_type": "code",
      "source": [
        "3**3"
      ],
      "metadata": {
        "colab": {
          "base_uri": "https://localhost:8080/"
        },
        "id": "Yd8RcUgex9qC",
        "outputId": "623ae8d9-7da5-45a5-b2e5-292b0121e5ac"
      },
      "execution_count": null,
      "outputs": [
        {
          "output_type": "execute_result",
          "data": {
            "text/plain": [
              "27"
            ]
          },
          "metadata": {},
          "execution_count": 6
        }
      ]
    },
    {
      "cell_type": "code",
      "source": [
        "6/3"
      ],
      "metadata": {
        "colab": {
          "base_uri": "https://localhost:8080/"
        },
        "id": "cFxo4MS9x_W5",
        "outputId": "ca321a64-a9c3-4fc0-e88c-484c72cb572e"
      },
      "execution_count": null,
      "outputs": [
        {
          "output_type": "execute_result",
          "data": {
            "text/plain": [
              "2.0"
            ]
          },
          "metadata": {},
          "execution_count": 7
        }
      ]
    },
    {
      "cell_type": "code",
      "source": [
        "5//2"
      ],
      "metadata": {
        "colab": {
          "base_uri": "https://localhost:8080/"
        },
        "id": "3OcbTxptyE1r",
        "outputId": "5ed015e6-d77f-44a9-ae47-82dceeb4b48b"
      },
      "execution_count": null,
      "outputs": [
        {
          "output_type": "execute_result",
          "data": {
            "text/plain": [
              "2"
            ]
          },
          "metadata": {},
          "execution_count": 8
        }
      ]
    },
    {
      "cell_type": "code",
      "source": [
        "5%3"
      ],
      "metadata": {
        "colab": {
          "base_uri": "https://localhost:8080/"
        },
        "id": "h7Is_BXgyGV4",
        "outputId": "0aa150ea-3cca-47c5-bc0b-b0846ed5bdc0"
      },
      "execution_count": null,
      "outputs": [
        {
          "output_type": "execute_result",
          "data": {
            "text/plain": [
              "2"
            ]
          },
          "metadata": {},
          "execution_count": 10
        }
      ]
    },
    {
      "cell_type": "code",
      "source": [
        "3%5"
      ],
      "metadata": {
        "colab": {
          "base_uri": "https://localhost:8080/"
        },
        "id": "wcnNs78kyPnA",
        "outputId": "92b87c4b-3595-4e53-eff4-db4a4b3f2476"
      },
      "execution_count": null,
      "outputs": [
        {
          "output_type": "execute_result",
          "data": {
            "text/plain": [
              "3"
            ]
          },
          "metadata": {},
          "execution_count": 12
        }
      ]
    },
    {
      "cell_type": "code",
      "source": [
        "a = True\n",
        "b = False"
      ],
      "metadata": {
        "id": "Af_WEm2qyapj"
      },
      "execution_count": null,
      "outputs": []
    },
    {
      "cell_type": "code",
      "source": [
        "a and b"
      ],
      "metadata": {
        "colab": {
          "base_uri": "https://localhost:8080/"
        },
        "id": "i8AhKZStz9wG",
        "outputId": "6a5f98e1-84ef-4259-dac1-ab55bc1c3736"
      },
      "execution_count": null,
      "outputs": [
        {
          "output_type": "execute_result",
          "data": {
            "text/plain": [
              "False"
            ]
          },
          "metadata": {},
          "execution_count": 14
        }
      ]
    },
    {
      "cell_type": "code",
      "source": [
        "a or b"
      ],
      "metadata": {
        "colab": {
          "base_uri": "https://localhost:8080/"
        },
        "id": "TmsNh1Jg0ANI",
        "outputId": "cd622bd1-c900-44f4-8f24-366c17f5b5f3"
      },
      "execution_count": null,
      "outputs": [
        {
          "output_type": "execute_result",
          "data": {
            "text/plain": [
              "True"
            ]
          },
          "metadata": {},
          "execution_count": 15
        }
      ]
    },
    {
      "cell_type": "code",
      "source": [
        "not b"
      ],
      "metadata": {
        "colab": {
          "base_uri": "https://localhost:8080/"
        },
        "id": "W0N6PQpz0CMg",
        "outputId": "b32dc135-dfd6-4cd4-c636-8081dbb7c3bc"
      },
      "execution_count": null,
      "outputs": [
        {
          "output_type": "execute_result",
          "data": {
            "text/plain": [
              "True"
            ]
          },
          "metadata": {},
          "execution_count": 16
        }
      ]
    },
    {
      "cell_type": "code",
      "source": [
        "age = 20\n",
        "salary = 70_000\n",
        "\n",
        "(age > 25) and (salary > 50_000)"
      ],
      "metadata": {
        "colab": {
          "base_uri": "https://localhost:8080/"
        },
        "id": "YSo739cF0E4m",
        "outputId": "ce46ad92-337d-494e-b9d7-54745f6ddd43"
      },
      "execution_count": null,
      "outputs": [
        {
          "output_type": "execute_result",
          "data": {
            "text/plain": [
              "False"
            ]
          },
          "metadata": {},
          "execution_count": 18
        }
      ]
    },
    {
      "cell_type": "code",
      "source": [
        "# Calculate and display area of square\n",
        "side = 5 # Set value for side\n",
        "area = side**2 # Calculate area\n",
        "print(\"Area =\", area, \"sq. ft\") # Display area\n",
        "print(\"Goodbye!\")"
      ],
      "metadata": {
        "colab": {
          "base_uri": "https://localhost:8080/"
        },
        "id": "2qZJCgpf1J-3",
        "outputId": "e981693d-2218-4711-81a6-43ec8824f9ca"
      },
      "execution_count": null,
      "outputs": [
        {
          "output_type": "stream",
          "name": "stdout",
          "text": [
            "Area = 25 sq. ft\n",
            "Goodbye!\n"
          ]
        }
      ]
    },
    {
      "cell_type": "code",
      "source": [
        "print(\"Area =\", area, \"sq. ft\", end=\"---\")\n",
        "print(\"Goodbye!\")"
      ],
      "metadata": {
        "id": "sg7qL_a92l9d",
        "colab": {
          "base_uri": "https://localhost:8080/"
        },
        "outputId": "caf3696f-a8ee-48ae-fb8b-9a46cc2f3a60"
      },
      "execution_count": null,
      "outputs": [
        {
          "output_type": "stream",
          "name": "stdout",
          "text": [
            "Area = 25 sq. ft---Goodbye!\n"
          ]
        }
      ]
    },
    {
      "cell_type": "code",
      "source": [
        "print(\"Area =\", area, \"sq. ft\", sep=\" \")\n",
        "print(\"Goodbye!\")"
      ],
      "metadata": {
        "colab": {
          "base_uri": "https://localhost:8080/"
        },
        "id": "6LftQhjalAYj",
        "outputId": "aff57347-46c9-4ea5-b475-e42c8f459bce"
      },
      "execution_count": null,
      "outputs": [
        {
          "output_type": "stream",
          "name": "stdout",
          "text": [
            "Area = 25 sq. ft\n",
            "Goodbye!\n"
          ]
        }
      ]
    },
    {
      "cell_type": "code",
      "source": [
        "print(\"Area = {} sq. ft\".format(area))"
      ],
      "metadata": {
        "colab": {
          "base_uri": "https://localhost:8080/"
        },
        "id": "barOcucqnCRQ",
        "outputId": "361ee1df-0e27-4fa3-fc98-786747a98829"
      },
      "execution_count": null,
      "outputs": [
        {
          "output_type": "stream",
          "name": "stdout",
          "text": [
            "Area = 25 sq. ft\n"
          ]
        }
      ]
    },
    {
      "cell_type": "code",
      "source": [
        "print(f\"Area = {area} sq. ft\")"
      ],
      "metadata": {
        "colab": {
          "base_uri": "https://localhost:8080/"
        },
        "id": "e6smKiYsoOqz",
        "outputId": "8974a10b-a8c2-41b5-a53b-3d62ae5ee151"
      },
      "execution_count": null,
      "outputs": [
        {
          "output_type": "stream",
          "name": "stdout",
          "text": [
            "Area = 25 sq. ft\n"
          ]
        }
      ]
    },
    {
      "cell_type": "code",
      "source": [
        "name = input(\"Please provide yoyr name: \")\n",
        "print(\"Hi\", name)\n",
        "type(name)"
      ],
      "metadata": {
        "colab": {
          "base_uri": "https://localhost:8080/"
        },
        "id": "VZpY-SXNohBz",
        "outputId": "64e4068e-c256-4a22-9859-7160affef6e7"
      },
      "execution_count": null,
      "outputs": [
        {
          "output_type": "stream",
          "name": "stdout",
          "text": [
            "Please provide yoyr name: Bob\n",
            "Hi Bob\n"
          ]
        },
        {
          "output_type": "execute_result",
          "data": {
            "text/plain": [
              "str"
            ]
          },
          "metadata": {},
          "execution_count": 2
        }
      ]
    },
    {
      "cell_type": "code",
      "source": [
        "age = int(input(\"Please provide your age: \"))\n",
        "print(age + 10)\n",
        "type(age)"
      ],
      "metadata": {
        "colab": {
          "base_uri": "https://localhost:8080/"
        },
        "id": "xx0Yk3LE02Nr",
        "outputId": "8bd6c68b-0ce0-41fd-bd57-41384a48bde7"
      },
      "execution_count": null,
      "outputs": [
        {
          "output_type": "stream",
          "name": "stdout",
          "text": [
            "Please provide your age: 20\n",
            "30\n"
          ]
        },
        {
          "output_type": "execute_result",
          "data": {
            "text/plain": [
              "int"
            ]
          },
          "metadata": {},
          "execution_count": 4
        }
      ]
    },
    {
      "cell_type": "code",
      "source": [
        "if condition:\n",
        "  expr\n",
        "  expr"
      ],
      "metadata": {
        "id": "yJG9b-go2Lqp"
      },
      "execution_count": null,
      "outputs": []
    },
    {
      "cell_type": "code",
      "source": [
        "fico = int(input(\"Please provide your FICO score: \"))\n",
        "if fico >= 700:\n",
        "  print(\"Loan granted!\")\n",
        "else:\n",
        "  print(\"Loan denied!\")"
      ],
      "metadata": {
        "colab": {
          "base_uri": "https://localhost:8080/"
        },
        "id": "TLnykUy8WW-i",
        "outputId": "59f73767-be79-4715-8326-b0cb677dd297"
      },
      "execution_count": null,
      "outputs": [
        {
          "output_type": "stream",
          "name": "stdout",
          "text": [
            "Please provide your FICO score: 500\n",
            "Loan denied!\n"
          ]
        }
      ]
    },
    {
      "cell_type": "code",
      "source": [
        "num = float(input(\"Please enter your number grade (0-100): \"))\n",
        "if num >= 97:\n",
        "  print(\"A+\")\n",
        "elif num >= 93:\n",
        "  print(\"A\")\n",
        "elif num >= 90:\n",
        "  print(\"A-\")\n",
        "elif num >= 87:\n",
        "  print(\"B+\")\n",
        "elif num >= 83:\n",
        "  print(\"B\")\n",
        "elif num >= 90:\n",
        "  print(\"B-\")"
      ],
      "metadata": {
        "colab": {
          "base_uri": "https://localhost:8080/"
        },
        "id": "WY_lFYsQkitc",
        "outputId": "e6d675d4-9650-4a59-d34d-5479fa7e5540"
      },
      "execution_count": null,
      "outputs": [
        {
          "output_type": "stream",
          "name": "stdout",
          "text": [
            "Please enter your number grade (0-100): 87\n",
            "B+\n"
          ]
        }
      ]
    },
    {
      "cell_type": "code",
      "source": [
        "customer_type = input(\"Please provide your customer type (N: new, E: existing): \")\n",
        "deposit = float(input(\"Please provide your deposit amount ($): \"))\n",
        "if customer_type == \"E\":\n",
        "  if deposit >= 10_000:\n",
        "    IR = 3.5 # % value\n",
        "  elif deposit >= 1_000:\n",
        "    IR = 3.25\n",
        "  else:\n",
        "    IR = 3\n",
        "else:\n",
        "  IR = 4\n",
        "total = (1 + IR/100) * deposit\n",
        "print(f\"Total deposit: {total}$\")"
      ],
      "metadata": {
        "colab": {
          "base_uri": "https://localhost:8080/"
        },
        "id": "k2QJuJtanrjz",
        "outputId": "8bd725b8-8313-4e92-be3b-e9d047943eff"
      },
      "execution_count": null,
      "outputs": [
        {
          "output_type": "stream",
          "name": "stdout",
          "text": [
            "Please provide your customer type (N: new, E: existing): E\n",
            "Please provide your deposit amount ($): 5000\n",
            "Total deposit: 5162.5$\n"
          ]
        }
      ]
    },
    {
      "cell_type": "code",
      "source": [
        "customer_type = input(\"Please provide your customer type (N: new, E: existing): \")\n",
        "deposit = float(input(\"Please provide your deposit amount ($): \"))\n",
        "if customer_type == \"E\" and deposit >= 10_000:\n",
        "  IR = 3.5\n",
        "elif customer_type == \"E\" and deposit >= 1_000:\n",
        "  IR = 3.25\n",
        "elif customer_type == \"E\":\n",
        "  IR = 3.0\n",
        "else:\n",
        "  IR = 4.0\n",
        "total = (1 + IR/100) * deposit\n",
        "print(f\"Total deposit: {total}$\")"
      ],
      "metadata": {
        "colab": {
          "base_uri": "https://localhost:8080/"
        },
        "id": "OJ1ffV3x2Bq4",
        "outputId": "b536b2af-a0d5-4089-952d-250a128fd01b"
      },
      "execution_count": null,
      "outputs": [
        {
          "output_type": "stream",
          "name": "stdout",
          "text": [
            "Please provide your customer type (N: new, E: existing): E\n",
            "Please provide your deposit amount ($): 5000\n",
            "Total deposit: 5162.5$\n"
          ]
        }
      ]
    },
    {
      "cell_type": "code",
      "source": [
        "x = 5\n",
        "if x % 2 == 0:\n",
        "  res = \"Even\"\n",
        "else:\n",
        "  res = \"Odd\"\n",
        "print(res)"
      ],
      "metadata": {
        "colab": {
          "base_uri": "https://localhost:8080/"
        },
        "id": "YSfKU2qu_Qr5",
        "outputId": "6a606368-d0e4-4d59-f684-9ece6db654eb"
      },
      "execution_count": null,
      "outputs": [
        {
          "output_type": "stream",
          "name": "stdout",
          "text": [
            "Odd\n"
          ]
        }
      ]
    },
    {
      "cell_type": "code",
      "source": [
        "x = 5\n",
        "res = \"Even\" if x % 2 == 0 else \"Odd\"\n",
        "print(res)"
      ],
      "metadata": {
        "colab": {
          "base_uri": "https://localhost:8080/"
        },
        "id": "KrVmfXIVAEdw",
        "outputId": "539e7dc1-0a1b-4782-dd99-0f404c9e365c"
      },
      "execution_count": null,
      "outputs": [
        {
          "output_type": "stream",
          "name": "stdout",
          "text": [
            "Odd\n"
          ]
        }
      ]
    },
    {
      "cell_type": "code",
      "source": [
        "for number in range (2, 11, 2):\n",
        "  print(number, end=\" \")"
      ],
      "metadata": {
        "colab": {
          "base_uri": "https://localhost:8080/",
          "height": 0
        },
        "id": "Y04Z7VRTa3j8",
        "outputId": "715a7dab-e5e3-4481-cd34-464ec3e27ed9"
      },
      "execution_count": 1,
      "outputs": [
        {
          "output_type": "stream",
          "name": "stdout",
          "text": [
            "2 4 6 8 10 "
          ]
        }
      ]
    },
    {
      "cell_type": "code",
      "source": [
        "for number in range (1, 11):\n",
        "  if number % 2 == 0:\n",
        "    print(number, end=\" \")"
      ],
      "metadata": {
        "colab": {
          "base_uri": "https://localhost:8080/",
          "height": 0
        },
        "id": "p9KSQwiEcVOo",
        "outputId": "7cde596f-274e-487e-92d9-e71488ad038d"
      },
      "execution_count": 2,
      "outputs": [
        {
          "output_type": "stream",
          "name": "stdout",
          "text": [
            "2 4 6 8 10 "
          ]
        }
      ]
    },
    {
      "cell_type": "code",
      "source": [
        "num = 1\n",
        "\n",
        "while num < 5:\n",
        "  print(num, num ** 2, num ** 3)\n",
        "  num = num + 1"
      ],
      "metadata": {
        "colab": {
          "base_uri": "https://localhost:8080/",
          "height": 0
        },
        "id": "L-VK2HaccrqC",
        "outputId": "48791343-d067-4871-bea1-9d9ea4a36320"
      },
      "execution_count": 1,
      "outputs": [
        {
          "output_type": "stream",
          "name": "stdout",
          "text": [
            "1 1 1\n",
            "2 4 8\n",
            "3 9 27\n",
            "4 16 64\n"
          ]
        }
      ]
    },
    {
      "cell_type": "code",
      "source": [
        "for num in range(1, 5):\n",
        "  print(num, num ** 2, num ** 3)"
      ],
      "metadata": {
        "colab": {
          "base_uri": "https://localhost:8080/",
          "height": 0
        },
        "id": "pXNjflYU7Z2f",
        "outputId": "998cb90d-a7b7-4d23-e3f6-01db69e56929"
      },
      "execution_count": 2,
      "outputs": [
        {
          "output_type": "stream",
          "name": "stdout",
          "text": [
            "1 1 1\n",
            "2 4 8\n",
            "3 9 27\n",
            "4 16 64\n"
          ]
        }
      ]
    },
    {
      "cell_type": "code",
      "source": [
        "s = input(\"Enter yes or no: \")\n",
        "\n",
        "while s ==\"yes\":\n",
        "  print(\"OK!\")\n",
        "  s = input(\"Enter yes or no: \")"
      ],
      "metadata": {
        "colab": {
          "base_uri": "https://localhost:8080/",
          "height": 0
        },
        "id": "uo5y7rvd7jRm",
        "outputId": "07a0a9f0-0a46-4c95-b769-9b7c89e05081"
      },
      "execution_count": 3,
      "outputs": [
        {
          "name": "stdout",
          "output_type": "stream",
          "text": [
            "Enter yes or no: yes\n",
            "OK!\n",
            "Enter yes or no: yes\n",
            "OK!\n",
            "Enter yes or no: yes\n",
            "OK!\n",
            "Enter yes or no: no\n"
          ]
        }
      ]
    },
    {
      "cell_type": "code",
      "source": [
        "ticket_price = 10\n",
        "fixed_costs = 200\n",
        "base_attendees = 20\n",
        "\n",
        "print(\"Ad$\\t\", \"Profit\")\n",
        "\n",
        "for adMoney in range(0, 201, 25):\n",
        "  revenue = (base_attendees + 2 * round(adMoney ** 0.5)) * ticket_price\n",
        "  total_costs = fixed_costs + adMoney\n",
        "  profit = revenue - total_costs\n",
        "  print(adMoney, \"\\t\", profit)"
      ],
      "metadata": {
        "colab": {
          "base_uri": "https://localhost:8080/",
          "height": 0
        },
        "id": "rhQnvcjV7-Qt",
        "outputId": "5058d744-8e9e-40a3-b757-9e2991fa5629"
      },
      "execution_count": 8,
      "outputs": [
        {
          "output_type": "stream",
          "name": "stdout",
          "text": [
            "Ad$\t Profit\n",
            "0 \t 0\n",
            "25 \t 75\n",
            "50 \t 90\n",
            "75 \t 105\n",
            "100 \t 100\n",
            "125 \t 95\n",
            "150 \t 90\n",
            "175 \t 85\n",
            "200 \t 80\n"
          ]
        }
      ]
    },
    {
      "cell_type": "code",
      "source": [
        "ticket_price = 10\n",
        "fixed_costs = 200\n",
        "base_attendees = 20\n",
        "\n",
        "print(\"Ad$\\t\", \"Profit\")\n",
        "adMoney = 0\n",
        "while adMoney < 201:\n",
        "  revenue = (base_attendees + 2 * round(adMoney ** 0.5)) * ticket_price\n",
        "  total_costs = fixed_costs + adMoney\n",
        "  profit = revenue - total_costs\n",
        "  print(adMoney, \"\\t\", profit)\n",
        "  adMoney = adMoney + 25"
      ],
      "metadata": {
        "colab": {
          "base_uri": "https://localhost:8080/",
          "height": 0
        },
        "id": "bIgXTpcB-rsD",
        "outputId": "6b513952-a84e-4a26-87c9-669c34fc616b"
      },
      "execution_count": 7,
      "outputs": [
        {
          "output_type": "stream",
          "name": "stdout",
          "text": [
            "Ad$\t Profit\n",
            "0 \t 0\n",
            "25 \t 75\n",
            "50 \t 90\n",
            "75 \t 105\n",
            "100 \t 100\n",
            "125 \t 95\n",
            "150 \t 90\n",
            "175 \t 85\n",
            "200 \t 80\n"
          ]
        }
      ]
    },
    {
      "cell_type": "code",
      "source": [
        "num = 9\n",
        "\n",
        "while num > 0:\n",
        "  num = num - 1\n",
        "  if num == 5:\n",
        "    continue\n",
        "  print(num)\n",
        "print(\"End.\")"
      ],
      "metadata": {
        "colab": {
          "base_uri": "https://localhost:8080/",
          "height": 0
        },
        "id": "1LEEUPtwAHGl",
        "outputId": "6acd4a5b-c8c7-4a2c-8106-051e60338b5d"
      },
      "execution_count": 11,
      "outputs": [
        {
          "output_type": "stream",
          "name": "stdout",
          "text": [
            "8\n",
            "7\n",
            "6\n",
            "4\n",
            "3\n",
            "2\n",
            "1\n",
            "0\n",
            "End.\n"
          ]
        }
      ]
    },
    {
      "cell_type": "code",
      "source": [
        "for num in range(1, 11):\n",
        "  if num % 2 != 0:\n",
        "    continue\n",
        "  print(num, end = \" \")"
      ],
      "metadata": {
        "colab": {
          "base_uri": "https://localhost:8080/",
          "height": 0
        },
        "id": "T4A5yQB6CWwB",
        "outputId": "111e9e64-a1ad-4600-c6b6-e5883f051614"
      },
      "execution_count": 13,
      "outputs": [
        {
          "output_type": "stream",
          "name": "stdout",
          "text": [
            "2 4 6 8 10 "
          ]
        }
      ]
    },
    {
      "cell_type": "code",
      "source": [],
      "metadata": {
        "id": "XSIS4kR_Dpc8"
      },
      "execution_count": null,
      "outputs": []
    }
  ]
}